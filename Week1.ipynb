{
  "nbformat": 4,
  "nbformat_minor": 0,
  "metadata": {
    "colab": {
      "provenance": [],
      "include_colab_link": true
    },
    "kernelspec": {
      "name": "python3",
      "display_name": "Python 3"
    },
    "language_info": {
      "name": "python"
    }
  },
  "cells": [
    {
      "cell_type": "markdown",
      "metadata": {
        "id": "view-in-github",
        "colab_type": "text"
      },
      "source": [
        "<a href=\"https://colab.research.google.com/github/kalc1/CIT-99-Machine-Learning/blob/main/Week1.ipynb\" target=\"_parent\"><img src=\"https://colab.research.google.com/assets/colab-badge.svg\" alt=\"Open In Colab\"/></a>"
      ]
    },
    {
      "cell_type": "markdown",
      "source": [
        "# Exercise #1: Creating Comments\n",
        "Write the following phrase as a comment in this Jupyter Notebook.  \n",
        "\n",
        "Week 1 CIT-99 Assignment"
      ],
      "metadata": {
        "id": "tdydt7Sh1GzA"
      }
    },
    {
      "cell_type": "code",
      "execution_count": null,
      "metadata": {
        "id": "T2TORiWd1FFN"
      },
      "outputs": [],
      "source": [
        "#Week 1 CIT-99 Assignment"
      ]
    },
    {
      "cell_type": "markdown",
      "source": [
        "# Exercise #2: Numbers\n",
        "**Perform the operations** in a new code cell and **write a comment** about the numeric operation"
      ],
      "metadata": {
        "id": "1CGsqb3D3S4h"
      }
    },
    {
      "cell_type": "code",
      "source": [
        "7+10"
      ],
      "metadata": {
        "id": "-SogbkCj_7Ld",
        "colab": {
          "base_uri": "https://localhost:8080/"
        },
        "outputId": "4f84bd50-2730-46ea-ab19-c1a780a19dd2"
      },
      "execution_count": null,
      "outputs": [
        {
          "output_type": "execute_result",
          "data": {
            "text/plain": [
              "17"
            ]
          },
          "metadata": {},
          "execution_count": 2
        }
      ]
    },
    {
      "cell_type": "code",
      "source": [
        "6*5"
      ],
      "metadata": {
        "id": "bdoJhDRa_7CW",
        "colab": {
          "base_uri": "https://localhost:8080/"
        },
        "outputId": "bf069d78-7597-4919-b410-64ffd0618927"
      },
      "execution_count": null,
      "outputs": [
        {
          "output_type": "execute_result",
          "data": {
            "text/plain": [
              "30"
            ]
          },
          "metadata": {},
          "execution_count": 4
        }
      ]
    },
    {
      "cell_type": "code",
      "source": [
        "99/11"
      ],
      "metadata": {
        "id": "71icEWXd_653",
        "colab": {
          "base_uri": "https://localhost:8080/"
        },
        "outputId": "5227a30d-0453-4504-b028-8e27bf1c4e66"
      },
      "execution_count": null,
      "outputs": [
        {
          "output_type": "execute_result",
          "data": {
            "text/plain": [
              "9.0"
            ]
          },
          "metadata": {},
          "execution_count": 5
        }
      ]
    },
    {
      "cell_type": "code",
      "source": [
        "24//12"
      ],
      "metadata": {
        "id": "7jSfpf_S_6xM",
        "colab": {
          "base_uri": "https://localhost:8080/"
        },
        "outputId": "138e9697-c958-4855-cbe7-1ac0e243965a"
      },
      "execution_count": null,
      "outputs": [
        {
          "output_type": "execute_result",
          "data": {
            "text/plain": [
              "2"
            ]
          },
          "metadata": {},
          "execution_count": 6
        }
      ]
    },
    {
      "cell_type": "code",
      "source": [
        "6%11"
      ],
      "metadata": {
        "id": "a3_FPEwv_6n0",
        "colab": {
          "base_uri": "https://localhost:8080/"
        },
        "outputId": "47648f66-3cee-4183-fc27-d70125e29d5c"
      },
      "execution_count": null,
      "outputs": [
        {
          "output_type": "execute_result",
          "data": {
            "text/plain": [
              "6"
            ]
          },
          "metadata": {},
          "execution_count": 7
        }
      ]
    },
    {
      "cell_type": "code",
      "source": [
        "8**7"
      ],
      "metadata": {
        "id": "ZmA0aaNc_6eT",
        "colab": {
          "base_uri": "https://localhost:8080/"
        },
        "outputId": "79019a35-7d1a-46ad-cb8a-cd1df8315033"
      },
      "execution_count": null,
      "outputs": [
        {
          "output_type": "execute_result",
          "data": {
            "text/plain": [
              "2097152"
            ]
          },
          "metadata": {},
          "execution_count": 3
        }
      ]
    },
    {
      "cell_type": "markdown",
      "source": [
        "# Exercise #3: Variables\n",
        "Write the variables from the homework assignment and"
      ],
      "metadata": {
        "id": "KVZLay-pFt3s"
      }
    },
    {
      "cell_type": "code",
      "source": [],
      "metadata": {
        "id": "D9NfzWfhRBRA"
      },
      "execution_count": null,
      "outputs": []
    },
    {
      "cell_type": "code",
      "source": [],
      "metadata": {
        "id": "YkaJCDngRA-n"
      },
      "execution_count": null,
      "outputs": []
    },
    {
      "cell_type": "markdown",
      "source": [
        "# Exercise #4:"
      ],
      "metadata": {
        "id": "M_jK-tlRSX2i"
      }
    },
    {
      "cell_type": "code",
      "source": [],
      "metadata": {
        "id": "hvvrahd6hjwa"
      },
      "execution_count": null,
      "outputs": []
    },
    {
      "cell_type": "markdown",
      "source": [
        "# Exercise #5\n"
      ],
      "metadata": {
        "id": "UKIh0YA9kImv"
      }
    },
    {
      "cell_type": "code",
      "source": [],
      "metadata": {
        "id": "2GMYXcIXkM1Y"
      },
      "execution_count": null,
      "outputs": []
    },
    {
      "cell_type": "markdown",
      "source": [
        "#Exercise #6"
      ],
      "metadata": {
        "id": "SpwzYfLmkNM7"
      }
    },
    {
      "cell_type": "code",
      "source": [],
      "metadata": {
        "id": "NHHUs2pakSZ-"
      },
      "execution_count": null,
      "outputs": []
    },
    {
      "cell_type": "markdown",
      "source": [
        "#Exercise #7"
      ],
      "metadata": {
        "id": "E64YcbcJkTUw"
      }
    },
    {
      "cell_type": "code",
      "source": [],
      "metadata": {
        "id": "w-WQmtpDkZn_"
      },
      "execution_count": null,
      "outputs": []
    },
    {
      "cell_type": "markdown",
      "source": [
        "#Exercise #8"
      ],
      "metadata": {
        "id": "wcCnXNI0kaFQ"
      }
    },
    {
      "cell_type": "code",
      "source": [],
      "metadata": {
        "id": "ew1Su0WakgsA"
      },
      "execution_count": null,
      "outputs": []
    }
  ]
}