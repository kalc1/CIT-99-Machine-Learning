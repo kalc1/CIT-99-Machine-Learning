{
  "nbformat": 4,
  "nbformat_minor": 0,
  "metadata": {
    "colab": {
      "provenance": [],
      "include_colab_link": true
    },
    "kernelspec": {
      "name": "python3",
      "display_name": "Python 3"
    },
    "language_info": {
      "name": "python"
    }
  },
  "cells": [
    {
      "cell_type": "markdown",
      "metadata": {
        "id": "view-in-github",
        "colab_type": "text"
      },
      "source": [
        "<a href=\"https://colab.research.google.com/github/kalc1/CIT-99-Machine-Learning/blob/main/Week1_2_25_24.ipynb\" target=\"_parent\"><img src=\"https://colab.research.google.com/assets/colab-badge.svg\" alt=\"Open In Colab\"/></a>"
      ]
    },
    {
      "cell_type": "markdown",
      "source": [
        "# Exercise #1: Creating Comments\n",
        "Write the following phrase as a comment in this Jupyter Notebook.  \n",
        "\n",
        "Week 1 CIT-99 Assignment"
      ],
      "metadata": {
        "id": "tdydt7Sh1GzA"
      }
    },
    {
      "cell_type": "code",
      "execution_count": null,
      "metadata": {
        "id": "T2TORiWd1FFN"
      },
      "outputs": [],
      "source": [
        "#Week 1 CIT-99 Assignment"
      ]
    },
    {
      "cell_type": "markdown",
      "source": [
        "# Exercise #2: Numbers\n",
        "**Perform the operations** in a new code cell and **write a comment** about the numeric operation"
      ],
      "metadata": {
        "id": "1CGsqb3D3S4h"
      }
    },
    {
      "cell_type": "code",
      "source": [
        "7+10"
      ],
      "metadata": {
        "id": "-SogbkCj_7Ld",
        "colab": {
          "base_uri": "https://localhost:8080/"
        },
        "outputId": "4f84bd50-2730-46ea-ab19-c1a780a19dd2"
      },
      "execution_count": null,
      "outputs": [
        {
          "output_type": "execute_result",
          "data": {
            "text/plain": [
              "17"
            ]
          },
          "metadata": {},
          "execution_count": 2
        }
      ]
    },
    {
      "cell_type": "code",
      "source": [
        "6*5"
      ],
      "metadata": {
        "id": "bdoJhDRa_7CW",
        "colab": {
          "base_uri": "https://localhost:8080/"
        },
        "outputId": "bf069d78-7597-4919-b410-64ffd0618927"
      },
      "execution_count": null,
      "outputs": [
        {
          "output_type": "execute_result",
          "data": {
            "text/plain": [
              "30"
            ]
          },
          "metadata": {},
          "execution_count": 4
        }
      ]
    },
    {
      "cell_type": "code",
      "source": [
        "99/11"
      ],
      "metadata": {
        "id": "71icEWXd_653",
        "colab": {
          "base_uri": "https://localhost:8080/"
        },
        "outputId": "5227a30d-0453-4504-b028-8e27bf1c4e66"
      },
      "execution_count": null,
      "outputs": [
        {
          "output_type": "execute_result",
          "data": {
            "text/plain": [
              "9.0"
            ]
          },
          "metadata": {},
          "execution_count": 5
        }
      ]
    },
    {
      "cell_type": "code",
      "source": [
        "24//12"
      ],
      "metadata": {
        "id": "7jSfpf_S_6xM",
        "colab": {
          "base_uri": "https://localhost:8080/"
        },
        "outputId": "138e9697-c958-4855-cbe7-1ac0e243965a"
      },
      "execution_count": null,
      "outputs": [
        {
          "output_type": "execute_result",
          "data": {
            "text/plain": [
              "2"
            ]
          },
          "metadata": {},
          "execution_count": 6
        }
      ]
    },
    {
      "cell_type": "code",
      "source": [
        "6%11"
      ],
      "metadata": {
        "id": "a3_FPEwv_6n0",
        "colab": {
          "base_uri": "https://localhost:8080/"
        },
        "outputId": "47648f66-3cee-4183-fc27-d70125e29d5c"
      },
      "execution_count": null,
      "outputs": [
        {
          "output_type": "execute_result",
          "data": {
            "text/plain": [
              "6"
            ]
          },
          "metadata": {},
          "execution_count": 7
        }
      ]
    },
    {
      "cell_type": "code",
      "source": [
        "8**7"
      ],
      "metadata": {
        "id": "ZmA0aaNc_6eT",
        "colab": {
          "base_uri": "https://localhost:8080/"
        },
        "outputId": "79019a35-7d1a-46ad-cb8a-cd1df8315033"
      },
      "execution_count": null,
      "outputs": [
        {
          "output_type": "execute_result",
          "data": {
            "text/plain": [
              "2097152"
            ]
          },
          "metadata": {},
          "execution_count": 3
        }
      ]
    },
    {
      "cell_type": "markdown",
      "source": [
        "# Exercise #3: Variables\n",
        "Write the variables from the homework assignment and"
      ],
      "metadata": {
        "id": "KVZLay-pFt3s"
      }
    },
    {
      "cell_type": "code",
      "source": [
        "A = 79\n",
        "B = 42"
      ],
      "metadata": {
        "id": "D9NfzWfhRBRA"
      },
      "execution_count": null,
      "outputs": []
    },
    {
      "cell_type": "code",
      "source": [
        "A**B"
      ],
      "metadata": {
        "id": "YkaJCDngRA-n",
        "colab": {
          "base_uri": "https://localhost:8080/"
        },
        "outputId": "2b306ede-f6c2-4d54-9cb8-04de57675afb"
      },
      "execution_count": null,
      "outputs": [
        {
          "output_type": "execute_result",
          "data": {
            "text/plain": [
              "50157725483905227341761748890141694180076101090840037071925071763978352502147041"
            ]
          },
          "metadata": {},
          "execution_count": 3
        }
      ]
    },
    {
      "cell_type": "markdown",
      "source": [
        "# Exercise #4:"
      ],
      "metadata": {
        "id": "M_jK-tlRSX2i"
      }
    },
    {
      "cell_type": "code",
      "source": [
        "myName = 'Harper'\n",
        "print(f\"Hello {myName} Are you having a good day?\")"
      ],
      "metadata": {
        "id": "hvvrahd6hjwa",
        "colab": {
          "base_uri": "https://localhost:8080/"
        },
        "outputId": "35d9e9e2-8c23-40e0-ebdb-1e21d6e771f1"
      },
      "execution_count": null,
      "outputs": [
        {
          "output_type": "stream",
          "name": "stdout",
          "text": [
            "Hello Harper Are you having a good day?\n"
          ]
        }
      ]
    },
    {
      "cell_type": "markdown",
      "source": [
        "# Exercise #5\n"
      ],
      "metadata": {
        "id": "UKIh0YA9kImv"
      }
    },
    {
      "cell_type": "code",
      "source": [
        "L1 = [10, 41, 66, 38, 30, 89, 63, 24]"
      ],
      "metadata": {
        "id": "2GMYXcIXkM1Y"
      },
      "execution_count": 4,
      "outputs": []
    },
    {
      "cell_type": "code",
      "source": [
        "L1[4]"
      ],
      "metadata": {
        "colab": {
          "base_uri": "https://localhost:8080/"
        },
        "id": "dWOtVCFHdZOg",
        "outputId": "bbcfa68b-1b06-4eb1-f926-b6f2f15ba93f"
      },
      "execution_count": 20,
      "outputs": [
        {
          "output_type": "execute_result",
          "data": {
            "text/plain": [
              "30"
            ]
          },
          "metadata": {},
          "execution_count": 20
        }
      ]
    },
    {
      "cell_type": "code",
      "source": [
        "L1[2:5]"
      ],
      "metadata": {
        "colab": {
          "base_uri": "https://localhost:8080/"
        },
        "id": "wgrK8RtBddCU",
        "outputId": "1baf4e64-9b26-450c-dc1e-d6f8558e6906"
      },
      "execution_count": 23,
      "outputs": [
        {
          "output_type": "execute_result",
          "data": {
            "text/plain": [
              "[66, 38, 30]"
            ]
          },
          "metadata": {},
          "execution_count": 23
        }
      ]
    },
    {
      "cell_type": "code",
      "source": [
        "print(L1[3::])"
      ],
      "metadata": {
        "colab": {
          "base_uri": "https://localhost:8080/"
        },
        "id": "7zHQ1wNTdlIO",
        "outputId": "ec78d97d-eb0f-4763-c9cd-6b8d5a1d19a8"
      },
      "execution_count": 9,
      "outputs": [
        {
          "output_type": "stream",
          "name": "stdout",
          "text": [
            "[38, 30, 89, 63, 24]\n"
          ]
        }
      ]
    },
    {
      "cell_type": "code",
      "source": [
        "print(L1[0:4])"
      ],
      "metadata": {
        "colab": {
          "base_uri": "https://localhost:8080/"
        },
        "id": "2A4Mitbpd_81",
        "outputId": "ec4f44f3-abb7-4edf-8b26-1bb9e3a1a2d8"
      },
      "execution_count": 24,
      "outputs": [
        {
          "output_type": "stream",
          "name": "stdout",
          "text": [
            "[10, 41, 66, 38]\n"
          ]
        }
      ]
    },
    {
      "cell_type": "markdown",
      "source": [
        "#Exercise #6"
      ],
      "metadata": {
        "id": "SpwzYfLmkNM7"
      }
    },
    {
      "cell_type": "code",
      "source": [
        "x = 11"
      ],
      "metadata": {
        "id": "NHHUs2pakSZ-"
      },
      "execution_count": 25,
      "outputs": []
    },
    {
      "cell_type": "code",
      "source": [
        "if x < 74:\n",
        "     print(\"Younger than 74.\")\n",
        "else:\n",
        "     print(\"Age 74 or older\")"
      ],
      "metadata": {
        "colab": {
          "base_uri": "https://localhost:8080/"
        },
        "id": "EjQPf7ZGsnm7",
        "outputId": "67eb5899-0b9f-4e71-90fc-b9dcee761e0b"
      },
      "execution_count": 26,
      "outputs": [
        {
          "output_type": "stream",
          "name": "stdout",
          "text": [
            "Younger than 74.\n"
          ]
        }
      ]
    },
    {
      "cell_type": "code",
      "source": [
        "y = 99"
      ],
      "metadata": {
        "id": "muzLbRXmtAIs"
      },
      "execution_count": 27,
      "outputs": []
    },
    {
      "cell_type": "code",
      "source": [
        "if y < 18:\n",
        "   print(\"Minor\")\n",
        "elif (y <21):\n",
        "    print(\"You can vote but cannot drink.\")\n",
        "elif (y < 30):\n",
        "    print(\"You are a young adult.\")\n",
        "elif (y < 43):\n",
        "    print(\"You are part of the Millennials.\")\n",
        "elif (y < 59):\n",
        "    print(\"You are part of Generation X.\")"
      ],
      "metadata": {
        "id": "IxwlZI0HtB5q"
      },
      "execution_count": 29,
      "outputs": []
    },
    {
      "cell_type": "code",
      "source": [
        "z = 70"
      ],
      "metadata": {
        "id": "8KiDm-VvtMLg"
      },
      "execution_count": 30,
      "outputs": []
    },
    {
      "cell_type": "code",
      "source": [
        "if (z > 15):\n",
        "    print(\"I like ice cream.\")\n",
        "    if (z > 21):\n",
        "        print(\"I like grapes.\")\n",
        "        if (z > 31):\n",
        "            print(\"I like root beer.\")\n",
        "            if (z > 41):\n",
        "                print(\"I like picnics.\")\n",
        "                if (z>51):\n",
        "                    print(\"I like fried fish.\")\n",
        "                    if(z > 61):\n",
        "                       print(\"I just lost all my teeth.\")"
      ],
      "metadata": {
        "colab": {
          "base_uri": "https://localhost:8080/"
        },
        "id": "TNvO6y-WtOdr",
        "outputId": "5d044f1a-b436-461e-e650-1e720194ee03"
      },
      "execution_count": 34,
      "outputs": [
        {
          "output_type": "stream",
          "name": "stdout",
          "text": [
            "I like ice cream.\n",
            "I like grapes.\n",
            "I like root beer.\n",
            "I like picnics.\n",
            "I like fried fish.\n",
            "I just lost all my teeth.\n"
          ]
        }
      ]
    },
    {
      "cell_type": "markdown",
      "source": [
        "#Exercise #7"
      ],
      "metadata": {
        "id": "E64YcbcJkTUw"
      }
    },
    {
      "cell_type": "code",
      "source": [
        "def greetings():\n",
        "      return print(\"Greetings friend!\")\n",
        "\n",
        "greetings()"
      ],
      "metadata": {
        "id": "w-WQmtpDkZn_",
        "colab": {
          "base_uri": "https://localhost:8080/"
        },
        "outputId": "5405e4f4-073c-403e-a8f7-39db057d2fbb"
      },
      "execution_count": 43,
      "outputs": [
        {
          "output_type": "stream",
          "name": "stdout",
          "text": [
            "Greetings friend!\n"
          ]
        }
      ]
    },
    {
      "cell_type": "code",
      "source": [
        "name = 'Sofía'\n",
        "\n",
        "def greet_someone(name):\n",
        "\n",
        "     return print(f\"Greetings {name}!\")\n",
        "\n",
        "greet_someone(name)"
      ],
      "metadata": {
        "colab": {
          "base_uri": "https://localhost:8080/"
        },
        "id": "lWUEbFJzumDB",
        "outputId": "05084a5d-5a55-4084-ba8a-929979d7fbed"
      },
      "execution_count": 39,
      "outputs": [
        {
          "output_type": "stream",
          "name": "stdout",
          "text": [
            "Greetings Sofía!\n"
          ]
        }
      ]
    },
    {
      "cell_type": "code",
      "source": [
        "amount = 66\n",
        "tax_rate = 1.43\n",
        "\n",
        "def sales_tax(amount, tax_rate):\n",
        "      return round( amount * tax_rate/100,2)\n",
        "\n",
        "sales_tax(amount, tax_rate)"
      ],
      "metadata": {
        "colab": {
          "base_uri": "https://localhost:8080/"
        },
        "id": "mxGAKZq2u2pV",
        "outputId": "a7981fb4-96fe-4cf6-9cf1-4ed487eaf8fb"
      },
      "execution_count": 40,
      "outputs": [
        {
          "output_type": "execute_result",
          "data": {
            "text/plain": [
              "0.94"
            ]
          },
          "metadata": {},
          "execution_count": 40
        }
      ]
    },
    {
      "cell_type": "markdown",
      "source": [
        "#Exercise #8"
      ],
      "metadata": {
        "id": "wcCnXNI0kaFQ"
      }
    },
    {
      "cell_type": "code",
      "source": [
        "country = {\"CA\":\"Canada\", \"US\": \"United States\", \"MX\":\"Mexico\", \"AF\":\"Afghanistan\", \"AL\":\"Albania\", \"TH\":\"Thailand\"}"
      ],
      "metadata": {
        "id": "ew1Su0WakgsA"
      },
      "execution_count": 44,
      "outputs": []
    },
    {
      "cell_type": "code",
      "source": [
        "country[\"AL\"]"
      ],
      "metadata": {
        "colab": {
          "base_uri": "https://localhost:8080/",
          "height": 36
        },
        "id": "T1eVxW18vSZ8",
        "outputId": "35e72109-c5b2-42fe-9e95-425aef3ed75c"
      },
      "execution_count": 45,
      "outputs": [
        {
          "output_type": "execute_result",
          "data": {
            "text/plain": [
              "'Albania'"
            ],
            "application/vnd.google.colaboratory.intrinsic+json": {
              "type": "string"
            }
          },
          "metadata": {},
          "execution_count": 45
        }
      ]
    },
    {
      "cell_type": "code",
      "source": [
        "country[\"ZC\"] =[15140,37264,15896]"
      ],
      "metadata": {
        "id": "dUu75DSAwIZQ"
      },
      "execution_count": 46,
      "outputs": []
    },
    {
      "cell_type": "code",
      "source": [
        "country[\"ZC\"][2]"
      ],
      "metadata": {
        "colab": {
          "base_uri": "https://localhost:8080/"
        },
        "id": "Zxzp05HYwMbF",
        "outputId": "c94a118e-0be1-4821-8202-196083ffabe3"
      },
      "execution_count": 47,
      "outputs": [
        {
          "output_type": "execute_result",
          "data": {
            "text/plain": [
              "15896"
            ]
          },
          "metadata": {},
          "execution_count": 47
        }
      ]
    }
  ]
}