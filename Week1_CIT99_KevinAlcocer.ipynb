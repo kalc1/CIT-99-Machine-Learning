{
  "nbformat": 4,
  "nbformat_minor": 0,
  "metadata": {
    "colab": {
      "provenance": [],
      "include_colab_link": true
    },
    "kernelspec": {
      "name": "python3",
      "display_name": "Python 3"
    },
    "language_info": {
      "name": "python"
    }
  },
  "cells": [
    {
      "cell_type": "markdown",
      "metadata": {
        "id": "view-in-github",
        "colab_type": "text"
      },
      "source": [
        "<a href=\"https://colab.research.google.com/github/kalc1/CIT-99-Machine-Learning/blob/main/Week1_CIT99_KevinAlcocer.ipynb\" target=\"_parent\"><img src=\"https://colab.research.google.com/assets/colab-badge.svg\" alt=\"Open In Colab\"/></a>"
      ]
    },
    {
      "cell_type": "markdown",
      "source": [
        "# Exercise #1: Creating Comments\n",
        "Write the following phrase as a comment in this Jupyter Notebook.  \n",
        "\n",
        "Week 1 CIT-99 Assignment"
      ],
      "metadata": {
        "id": "tdydt7Sh1GzA"
      }
    },
    {
      "cell_type": "code",
      "execution_count": 1,
      "metadata": {
        "id": "T2TORiWd1FFN"
      },
      "outputs": [],
      "source": [
        "#Week 1 CIT-99 Assignment"
      ]
    },
    {
      "cell_type": "markdown",
      "source": [
        "# Exercise #2: Numbers\n",
        "**Perform the operations** in a new code cell and **write a comment** about the numeric operation"
      ],
      "metadata": {
        "id": "1CGsqb3D3S4h"
      }
    },
    {
      "cell_type": "code",
      "source": [],
      "metadata": {
        "id": "-SogbkCj_7Ld"
      },
      "execution_count": null,
      "outputs": []
    },
    {
      "cell_type": "code",
      "source": [],
      "metadata": {
        "id": "bdoJhDRa_7CW"
      },
      "execution_count": null,
      "outputs": []
    },
    {
      "cell_type": "code",
      "source": [],
      "metadata": {
        "id": "71icEWXd_653"
      },
      "execution_count": null,
      "outputs": []
    },
    {
      "cell_type": "code",
      "source": [],
      "metadata": {
        "id": "7jSfpf_S_6xM"
      },
      "execution_count": null,
      "outputs": []
    },
    {
      "cell_type": "code",
      "source": [],
      "metadata": {
        "id": "a3_FPEwv_6n0"
      },
      "execution_count": null,
      "outputs": []
    },
    {
      "cell_type": "code",
      "source": [],
      "metadata": {
        "id": "ZmA0aaNc_6eT"
      },
      "execution_count": null,
      "outputs": []
    },
    {
      "cell_type": "markdown",
      "source": [
        "# Exercise #3: Variables\n",
        "Write the variables from the homework assignment and"
      ],
      "metadata": {
        "id": "KVZLay-pFt3s"
      }
    },
    {
      "cell_type": "code",
      "source": [],
      "metadata": {
        "id": "D9NfzWfhRBRA"
      },
      "execution_count": null,
      "outputs": []
    },
    {
      "cell_type": "code",
      "source": [],
      "metadata": {
        "id": "YkaJCDngRA-n"
      },
      "execution_count": null,
      "outputs": []
    },
    {
      "cell_type": "markdown",
      "source": [
        "# Exercise #4:"
      ],
      "metadata": {
        "id": "M_jK-tlRSX2i"
      }
    },
    {
      "cell_type": "code",
      "source": [],
      "metadata": {
        "id": "hvvrahd6hjwa"
      },
      "execution_count": null,
      "outputs": []
    },
    {
      "cell_type": "markdown",
      "source": [
        "# Exercise #5\n"
      ],
      "metadata": {
        "id": "UKIh0YA9kImv"
      }
    },
    {
      "cell_type": "code",
      "source": [],
      "metadata": {
        "id": "2GMYXcIXkM1Y"
      },
      "execution_count": null,
      "outputs": []
    },
    {
      "cell_type": "markdown",
      "source": [
        "#Exercise #6"
      ],
      "metadata": {
        "id": "SpwzYfLmkNM7"
      }
    },
    {
      "cell_type": "code",
      "source": [],
      "metadata": {
        "id": "NHHUs2pakSZ-"
      },
      "execution_count": null,
      "outputs": []
    },
    {
      "cell_type": "markdown",
      "source": [
        "#Exercise #7"
      ],
      "metadata": {
        "id": "E64YcbcJkTUw"
      }
    },
    {
      "cell_type": "code",
      "source": [],
      "metadata": {
        "id": "w-WQmtpDkZn_"
      },
      "execution_count": null,
      "outputs": []
    },
    {
      "cell_type": "markdown",
      "source": [
        "#Exercise #8"
      ],
      "metadata": {
        "id": "wcCnXNI0kaFQ"
      }
    },
    {
      "cell_type": "code",
      "source": [],
      "metadata": {
        "id": "ew1Su0WakgsA"
      },
      "execution_count": null,
      "outputs": []
    }
  ]
}